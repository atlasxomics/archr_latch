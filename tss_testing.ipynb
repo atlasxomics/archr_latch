{
 "cells": [
  {
   "cell_type": "code",
   "execution_count": 14,
   "id": "8ada72f5",
   "metadata": {},
   "outputs": [],
   "source": [
    "import re\n",
    "\n",
    "from slims.slims import Slims\n",
    "from slims.criteria import equals"
   ]
  },
  {
   "cell_type": "code",
   "execution_count": 15,
   "id": "8c95c856",
   "metadata": {},
   "outputs": [],
   "source": [
    "def slims_init(username='latch', password='latch'):\n",
    "    return Slims(\"slims\", \"https://slims.atlasxomics.com/slimsrest\", username, password) \n",
    "\n",
    "def get_pk(cntn_id, slims):\n",
    "    return slims.fetch('Content', equals('cntn_id', cntn_id))[0].pk()"
   ]
  },
  {
   "cell_type": "code",
   "execution_count": 28,
   "id": "36f5b431",
   "metadata": {},
   "outputs": [
    {
     "name": "stdout",
     "output_type": "stream",
     "text": [
      "{'rslt_fk_content': 11158, 'rslt_fk_test': 39, 'rslt_cf_value': 'upload', 'tss': '6.629', 'nfrags': '6.629'}\n",
      "No NG_ID found for run D01117_test; upload failed\n",
      "No NG_ID found for run D01118_test; upload failed\n",
      "No NG_ID found for run D01119_test; upload failed\n",
      "No NG_ID found for run D01120_test; upload failed\n"
     ]
    }
   ],
   "source": [
    "slims = slims_init()\n",
    "ng_re = re.compile('NG[0-9]{5}')\n",
    "\n",
    "f = open('/Users/jamesm/fastq/archr/medians.csv', 'r')\n",
    "f.readline()\n",
    "lines = [tuple(line.split(',')) for line in [line.rstrip() for line in f.readlines()]]\n",
    "\n",
    "for line in lines:\n",
    "    run_id, tss, nfrags = line\n",
    "\n",
    "    if re.findall(ng_re, run_id):\n",
    "\n",
    "        ng_id = re.findall(ng_re, \"D01116_NG01234\")[0]\n",
    "        \n",
    "        try:\n",
    "            pk = get_pk(ng_id, slims)\n",
    "        except IndexError:\n",
    "            print('Invalid SLIMS ng_id.')\n",
    "            \n",
    "        payload = {}\n",
    "        payload['rslt_fk_content'] = pk\n",
    "        payload['rslt_fk_test'] = 39\n",
    "        payload['rslt_cf_value'] = 'upload'\n",
    "        payload['tss'] = tss\n",
    "        payload['nfrags'] = nfrags\n",
    "        print(payload)\n",
    "        \n",
    "    else:\n",
    "        print(f\"No NG_ID found for run {run_id}; upload failed\")\n",
    "\n"
   ]
  },
  {
   "cell_type": "code",
   "execution_count": 24,
   "id": "0ac39676",
   "metadata": {},
   "outputs": [
    {
     "ename": "SyntaxError",
     "evalue": "invalid syntax (3547435074.py, line 1)",
     "output_type": "error",
     "traceback": [
      "\u001b[0;36m  Cell \u001b[0;32mIn[24], line 1\u001b[0;36m\u001b[0m\n\u001b[0;31m    else:\u001b[0m\n\u001b[0m    ^\u001b[0m\n\u001b[0;31mSyntaxError\u001b[0m\u001b[0;31m:\u001b[0m invalid syntax\n"
     ]
    }
   ],
   "source": [
    "        else:\n",
    "            try:\n",
    "                pk = lims.get_pk(run_id.split('_')[-1], slims)\n",
    "            except IndexError:\n",
    "                print('Invalid SLIMS ng_id.')\n",
    "    \n",
    "        payload['rslt_fk_content'] = pk\n",
    "        payload['rslt_fk_test'] = 39\n",
    "        payload['rslt_cf_value'] = 'upload'\n",
    "\n",
    "        print(lims.push_result(payload, slims))\n",
    "    \n",
    "        return results_dir\n",
    "\n",
    "    return results_dir\n",
    "\n",
    "    \n",
    "\n",
    "def lims_task(\n",
    "    project_name: str\n",
    "    upload: bool,\n",
    ") -> LatchDir:\n",
    "\n",
    "    if upload:\n",
    "    \n",
    "        csv = LatchFile(f'latch:///optimize_outs/{project_name}/archr_qc.csv')\n",
    "        \n",
    "        slims = lims.slims_init()\n",
    "        results = lims.csv_to_dict(csv)\n",
    "    \n",
    "        payload = {lims.mapping[key]:value for (key, value) in results.items()\n",
    "                    if key in lims.mapping.keys() and value not in lims.NA}\n",
    "    \n",
    "        if ng_id:\n",
    "            pk = lims.get_pk(ng_id, slims)\n",
    "        else:\n",
    "            try:\n",
    "                pk = lims.get_pk(run_id.split('_')[-1], slims)\n",
    "            except IndexError:\n",
    "                print('Invalid SLIMS ng_id.')\n",
    "    \n",
    "        payload['rslt_fk_content'] = pk\n",
    "        payload['rslt_fk_test'] = 39\n",
    "        payload['rslt_cf_value'] = 'upload'\n",
    "\n",
    "        print(lims.push_result(payload, slims))\n",
    "    \n",
    "        return results_dir\n",
    "\n",
    "    return results_dir\n"
   ]
  },
  {
   "cell_type": "code",
   "execution_count": null,
   "id": "e50d8829",
   "metadata": {},
   "outputs": [],
   "source": []
  }
 ],
 "metadata": {
  "kernelspec": {
   "display_name": "Python 3 (ipykernel)",
   "language": "python",
   "name": "python3"
  },
  "language_info": {
   "codemirror_mode": {
    "name": "ipython",
    "version": 3
   },
   "file_extension": ".py",
   "mimetype": "text/x-python",
   "name": "python",
   "nbconvert_exporter": "python",
   "pygments_lexer": "ipython3",
   "version": "3.8.16"
  }
 },
 "nbformat": 4,
 "nbformat_minor": 5
}
